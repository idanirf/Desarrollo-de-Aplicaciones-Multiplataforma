{
 "cells": [
  {
   "attachments": {},
   "cell_type": "markdown",
   "metadata": {},
   "source": [
    "# Primeros Programas\n",
    "1. Crea un programa que solicite tu nombre y te de la bienvenida al curso de sistemas de gestión empresarial con una frase tipo “Hola NOMBRE! Bienvenido al curso de SGE 21/22”.\n"
   ]
  },
  {
   "cell_type": "code",
   "execution_count": 4,
   "metadata": {},
   "outputs": [
    {
     "name": "stdout",
     "output_type": "stream",
     "text": [
      "Hola Dani Bienvenido al curso de SGE 22/23\n"
     ]
    }
   ],
   "source": [
    "nombre = input(\"Introduce tu nombre: \")\n",
    "nombre = \"Dani\"\n",
    "print(\"Hola\", nombre, \"Bienvenido al curso de SGE 22/23\")"
   ]
  },
  {
   "attachments": {},
   "cell_type": "markdown",
   "metadata": {},
   "source": [
    "2. Haz un programa que adivine la talla de pie y la edad del usuario que lo ejecute. Se basa en un sencillo truco matemático. El programa debe pedir al usuario que realice las siguientes operaciones (las operaciones la tiene que realizar el de cabeza, no el programa):\n",
    "Pensar, escribir o apuntar su talla de zapato.\n",
    "Multiplicar ese número por 5.\n",
    "Sumarle 50.\n",
    "Multiplicarlo por 20.\n",
    "Sumarle 1022.\n",
    "Restarle el año de nacimiento."
   ]
  },
  {
   "cell_type": "code",
   "execution_count": 5,
   "metadata": {},
   "outputs": [
    {
     "name": "stdout",
     "output_type": "stream",
     "text": [
      "Vamos a adivinar tu edad\n",
      "Pensar, escribir o apuntar su talla de zapato.Multiplicar ese número por 5. Sumarle 50. Multiplicarlo por 20. Sumarle 1022.Restarle el año de nacimiento.\n",
      "Tu edad es 5 y tu talla de pie es: \n"
     ]
    }
   ],
   "source": [
    "print(\"Vamos a adivinar tu edad\")\n",
    "print(\"Pensar, escribir o apuntar su talla de zapato.Multiplicar ese número por 5. Sumarle 50. Multiplicarlo por 20. Sumarle 1022.Restarle el año de nacimiento.\")\n",
    "# Pasar edad a string\n",
    "numero = input(\"Introduce el número resultado: \")\n",
    "print(\"Tu edad es\", numero[0:2], \"y tu talla de pie es:\", numero[2:4])\n",
    "\n",
    "\n",
    "\n",
    "\n"
   ]
  },
  {
   "attachments": {},
   "cell_type": "markdown",
   "metadata": {},
   "source": [
    "3. Programa que dibuje con asteriscos un triángulo rectángulo isósceles de N asteriscos de alto. Opcional: pintar triangulo rectángulo escaleno.\n"
   ]
  },
  {
   "cell_type": "code",
   "execution_count": 6,
   "metadata": {},
   "outputs": [
    {
     "name": "stdout",
     "output_type": "stream",
     "text": [
      "Triangulo de asteriscos isosceles\n",
      "Ingrese la altura del triangulo\n"
     ]
    },
    {
     "ename": "ValueError",
     "evalue": "invalid literal for int() with base 10: ''",
     "output_type": "error",
     "traceback": [
      "\u001b[1;31m---------------------------------------------------------------------------\u001b[0m",
      "\u001b[1;31mValueError\u001b[0m                                Traceback (most recent call last)",
      "Cell \u001b[1;32mIn[6], line 3\u001b[0m\n\u001b[0;32m      1\u001b[0m \u001b[39mprint\u001b[39m(\u001b[39m\"\u001b[39m\u001b[39mTriangulo de asteriscos isosceles\u001b[39m\u001b[39m\"\u001b[39m)\n\u001b[0;32m      2\u001b[0m \u001b[39mprint\u001b[39m(\u001b[39m\"\u001b[39m\u001b[39mIngrese la altura del triangulo\u001b[39m\u001b[39m\"\u001b[39m)\n\u001b[1;32m----> 3\u001b[0m altura \u001b[39m=\u001b[39m \u001b[39mint\u001b[39;49m(\u001b[39minput\u001b[39;49m())\n\u001b[0;32m      4\u001b[0m \u001b[39mprint\u001b[39m(\u001b[39m\"\u001b[39m\u001b[39m\"\u001b[39m)\n\u001b[0;32m      5\u001b[0m \u001b[39mprint\u001b[39m(\u001b[39m\"\u001b[39m\u001b[39mTriangulo de asteriscos isosceles\u001b[39m\u001b[39m\"\u001b[39m)\n",
      "\u001b[1;31mValueError\u001b[0m: invalid literal for int() with base 10: ''"
     ]
    }
   ],
   "source": [
    "print(\"Triangulo de asteriscos isosceles\")\n",
    "print(\"Ingrese la altura del triangulo\")\n",
    "altura = int(input())\n",
    "print(\"\")\n",
    "print(\"Triangulo de asteriscos isosceles\")\n",
    "print(\"\")\n",
    "for i in range(altura):\n",
    "    print(\" \"*(altura-i-1) + \"*\"*(2*i+1))\n"
   ]
  },
  {
   "attachments": {},
   "cell_type": "markdown",
   "metadata": {},
   "source": [
    "4. Programa que adivine el numero en el que está pensando (entre 0 y 100) el usuario por tanteo (preguntando sucesivamente si es mayor o menor que un número aleatorio de partida)\n"
   ]
  },
  {
   "cell_type": "code",
   "execution_count": null,
   "metadata": {},
   "outputs": [
    {
     "name": "stdout",
     "output_type": "stream",
     "text": [
      "Adivina el número que estoy pensando entre 1 y 100\n",
      "Si el número es mayor pulsa 1, si es menor pulsa 2, si es igual pulsa 3\n",
      "Si quieres salir o te has rendido pulsa 4\n",
      "El número es:  92\n",
      "El número es:  30\n",
      "El número es:  14\n",
      "El número es:  12\n",
      "El número es:  81\n",
      "El número es:  24\n",
      "El número es:  23\n",
      "El número es:  3\n",
      "El número es:  69\n",
      "El número es:  18\n",
      "El número es:  96\n",
      "El número es:  1\n",
      "El número es:  48\n",
      "El número es:  24\n",
      "El número es:  77\n",
      "El número es:  74\n",
      "El número es:  66\n",
      "El número es:  63\n",
      "El número es:  53\n",
      "El número es:  52\n",
      "El número es:  20\n",
      "Adivine el número\n"
     ]
    }
   ],
   "source": [
    "import random\n",
    "\n",
    "numero = random.randint(1, 100)\n",
    "print(\"Adivina el número que estoy pensando entre 1 y 100\")\n",
    "print(\"Si el número es mayor pulsa 1, si es menor pulsa 2, si es igual pulsa 3\")\n",
    "print(\"Si quieres salir o te has rendido pulsa 4\")\n",
    "print(\"El número es: \", numero)\n",
    "respuesta = int(input(\"Respuesta: \"))\n",
    "while respuesta != 4:\n",
    "    if respuesta == 1:\n",
    "        numero = random.randint(numero, 100)\n",
    "        print(\"El número es: \", numero)\n",
    "        respuesta = int(input(\"Respuesta: \"))\n",
    "    elif respuesta == 2:\n",
    "        numero = random.randint(1, numero)\n",
    "        print(\"El número es: \", numero)\n",
    "        respuesta = int(input(\"Respuesta: \"))\n",
    "    elif respuesta == 3:\n",
    "        print(\"Adivine el número\")\n",
    "        break\n",
    "    else:\n",
    "        print(\"Opción no valida\")\n",
    "        respuesta = int(input(\"Respuesta: \"))\n"
   ]
  },
  {
   "attachments": {},
   "cell_type": "markdown",
   "metadata": {},
   "source": [
    "5. Usar un for para imprimir por pantalla todos los múltiplos de 7 menores de 100.\n"
   ]
  },
  {
   "cell_type": "code",
   "execution_count": null,
   "metadata": {},
   "outputs": [
    {
     "name": "stdout",
     "output_type": "stream",
     "text": [
      "0\n",
      "7\n",
      "14\n",
      "21\n",
      "28\n",
      "35\n",
      "42\n",
      "49\n",
      "56\n",
      "63\n",
      "70\n",
      "77\n",
      "84\n",
      "91\n",
      "98\n"
     ]
    }
   ],
   "source": [
    "for i in range(0, 101):\n",
    "    if i % 7 == 0:\n",
    "        print(i)"
   ]
  },
  {
   "attachments": {},
   "cell_type": "markdown",
   "metadata": {},
   "source": [
    "6. Solicitar una oración por teclado y realizar las siguientes operaciones sobre ella:\n",
    "Mostrar longitud de la cadena.\n",
    "Mostrar espacios en blanco se ingresaron.\n",
    "Mostrar toda la oración en letras mayúsculas.\n",
    "Duplicar el contenido de la cadena.\n",
    "Dividir la cadena en una lista de palabras y recorrerla mostrándola y numerando cada palabra."
   ]
  },
  {
   "cell_type": "code",
   "execution_count": null,
   "metadata": {},
   "outputs": [
    {
     "name": "stdout",
     "output_type": "stream",
     "text": [
      "Longitud de la cadena:  26\n",
      "Espacios en blanco:  3\n",
      "Mayúsculas:  HOLA MIS CORAZONES BONICOS\n",
      "Duplicado:  Hola mis corazones bonicosHola mis corazones bonicos\n",
      "Lista de palabras: \n",
      "0 Hola\n",
      "\n",
      "1 mis\n",
      "\n",
      "2 corazones\n",
      "\n",
      "3 bonicos\n",
      "\n"
     ]
    }
   ],
   "source": [
    "oracion = input(\"Ingrese una oración: \")\n",
    "print(\"Longitud de la cadena: \", len(oracion))\n",
    "print(\"Espacios en blanco: \", oracion.count(\" \"))\n",
    "print(\"Mayúsculas: \", oracion.upper())\n",
    "print(\"Duplicado: \", oracion * 2)\n",
    "print(\"Lista de palabras: \")\n",
    "lista = oracion.split()\n",
    "for i in range(len(lista)):\n",
    "    print(i, lista[i])\n",
    "    print()"
   ]
  },
  {
   "attachments": {},
   "cell_type": "markdown",
   "metadata": {},
   "source": [
    "7. Definir una lista por asignación con 5 enteros. Mostrar por pantalla solo los elementos con valor iguales o superiores a 7.\n"
   ]
  },
  {
   "cell_type": "code",
   "execution_count": null,
   "metadata": {},
   "outputs": [
    {
     "name": "stdout",
     "output_type": "stream",
     "text": [
      "12\n",
      "45\n",
      "67\n",
      "9\n",
      "10\n"
     ]
    }
   ],
   "source": [
    "lista = [1,5,12,45,67,2,3,9,10]\n",
    "\n",
    "for elemento in lista:\n",
    "    if elemento >= 7:\n",
    "        print(elemento)"
   ]
  },
  {
   "attachments": {},
   "cell_type": "markdown",
   "metadata": {},
   "source": [
    "8. Crear un programa que almacene nombres de personas, tras introducir un nombre nuevo mostrará un conteo de los nombres que tienen 5 o más caracteres y preguntará si desea introducir un nuevo nombre o salir del programa. Opcional: Cargar palabras a partir de un archivo txt.\n"
   ]
  },
  {
   "cell_type": "code",
   "execution_count": null,
   "metadata": {},
   "outputs": [
    {
     "name": "stdout",
     "output_type": "stream",
     "text": [
      "Hay 0 nombres con 5 o más caracteres\n",
      "Hay 1 nombres con 5 o más caracteres\n",
      "Hay 2 nombres con 5 o más caracteres\n"
     ]
    }
   ],
   "source": [
    "nombres = []\n",
    "\n",
    "while True:\n",
    "    nombre = input(\"Introduce un nombre: \")\n",
    "\n",
    "    nombres.append(nombre)\n",
    "\n",
    "    contador = 0\n",
    "    for nombre in nombres:\n",
    "        if len(nombre) >= 5:\n",
    "            contador += 1\n",
    "    print(\"Hay {} nombres con 5 o más caracteres\".format(contador))\n",
    "\n",
    "    respuesta = input(\"¿Desea introducir otro nombre? (Si/No): \")\n",
    "    if respuesta == \"No\":\n",
    "        break\n",
    "        "
   ]
  },
  {
   "attachments": {},
   "cell_type": "markdown",
   "metadata": {},
   "source": [
    "9. Crear un programa que almacene con dos opciones: 1. Agregar personas: permite introducir nombres de personas de forma interactiva, 2. Sorteo: devuelve el nombre de una persona al azar. Opcional: Cargar nombre a partir de un archivo csv.\n"
   ]
  },
  {
   "cell_type": "code",
   "execution_count": null,
   "metadata": {},
   "outputs": [],
   "source": [
    "import random\n",
    "\n",
    "nombre = input(\"Introduce tu nombre: \")\n",
    "lista = []\n",
    "lista.append(nombre)\n",
    "\n",
    "while True:\n",
    "    print(\"1. Agregar personas\")\n",
    "    print(\"2. Sorteo\")\n",
    "    print(\"3. Salir\")\n",
    "    opcion = int(input(\"Elige una opción: \"))\n",
    "    if opcion == 1:\n",
    "        nombre = input(\"Introduce tu nombre: \")\n",
    "        lista.append(nombre)\n",
    "    elif opcion == 2:\n",
    "        print(random.choice(lista))\n",
    "    elif opcion == 3:\n",
    "        break\n",
    "    else:\n",
    "        print(\"Opción incorrecta\")\n"
   ]
  },
  {
   "attachments": {},
   "cell_type": "markdown",
   "metadata": {},
   "source": [
    "10. Crear un programa “Diccionario” que permita consultar definiciones, agregar nuevas palabras con su definición o eliminar palabras. Opcional: Cargar diccionario a partir de un archivo csv.\n"
   ]
  },
  {
   "cell_type": "code",
   "execution_count": null,
   "metadata": {},
   "outputs": [
    {
     "name": "stdout",
     "output_type": "stream",
     "text": [
      "{'adios': 'Es una forma de irse'}\n"
     ]
    }
   ],
   "source": [
    "diccionario = {}\n",
    "\n",
    "diccionario[\"hola\"] = \"Es una forma de comenzar\"\n",
    "diccionario[\"adios\"] = \"Es una forma de irse\"\n",
    "\n",
    "del diccionario[\"hola\"]\n",
    "\n",
    "print(diccionario)\n"
   ]
  },
  {
   "attachments": {},
   "cell_type": "markdown",
   "metadata": {},
   "source": [
    "11. Ingresar por teclado los nombres de 5 personas y almacenarlos en una lista. Crear una nueva lista con los nombres ordenados alfabéticamente e imprimirla por pantalla. Opcional: Crea una función que ordene os nombres por su longitud para pasársela como parámetro al método Short.\n"
   ]
  },
  {
   "cell_type": "code",
   "execution_count": null,
   "metadata": {},
   "outputs": [
    {
     "name": "stdout",
     "output_type": "stream",
     "text": [
      "['DANI', 'JORGE', 'ZAMORA', 'Azahara', 'JOSE LUIS']\n",
      "\n",
      "['Azahara', 'DANI', 'JORGE', 'JOSE LUIS', 'ZAMORA']\n"
     ]
    }
   ],
   "source": [
    "def ordenarPorLongitud(nombres):\n",
    "    return len(nombres)\n",
    "\n",
    "nombres = []\n",
    "for i in range(5):\n",
    "    nombres.append(input(\"Ingrese el nombre: \"))\n",
    "nombres.sort(key=ordenarPorLongitud)\n",
    "print(nombres)\n",
    "print()\n",
    "nombres.sort()\n",
    "print(nombres)"
   ]
  },
  {
   "attachments": {},
   "cell_type": "markdown",
   "metadata": {},
   "source": [
    "12. Crear una lista con contenido [[50,34,70,20], [5,70,30,25], [10,5], [75,43,56,32,89], [[54,72]]. Imprimir la lista, asignar valor cero a todos los elementos mayores a 50 y volver a imprimir la lista.\n"
   ]
  },
  {
   "cell_type": "code",
   "execution_count": null,
   "metadata": {},
   "outputs": [
    {
     "name": "stdout",
     "output_type": "stream",
     "text": [
      "[[50, 34, 70, 20], [5, 70, 30, 25], [10, 5], [75, 43, 56, 32, 89], [[54, 72]]]\n",
      "[50, 34, 0, 20]\n",
      "[5, 0, 30, 25]\n",
      "[0, 43, 56, 32, 89]\n",
      "[0, 43, 0, 32, 89]\n",
      "[0, 43, 0, 32, 0]\n"
     ]
    },
    {
     "ename": "TypeError",
     "evalue": "'>' not supported between instances of 'list' and 'int'",
     "output_type": "error",
     "traceback": [
      "\u001b[1;31m---------------------------------------------------------------------------\u001b[0m",
      "\u001b[1;31mTypeError\u001b[0m                                 Traceback (most recent call last)",
      "Cell \u001b[1;32mIn[13], line 5\u001b[0m\n\u001b[0;32m      3\u001b[0m \u001b[39mfor\u001b[39;00m i \u001b[39min\u001b[39;00m \u001b[39mrange\u001b[39m(\u001b[39mlen\u001b[39m(lista)):\n\u001b[0;32m      4\u001b[0m     \u001b[39mfor\u001b[39;00m j \u001b[39min\u001b[39;00m \u001b[39mrange\u001b[39m(\u001b[39mlen\u001b[39m(lista[i])):\n\u001b[1;32m----> 5\u001b[0m         \u001b[39mif\u001b[39;00m lista[i][j] \u001b[39m>\u001b[39;49m \u001b[39m50\u001b[39;49m:\n\u001b[0;32m      6\u001b[0m             lista[i][j] \u001b[39m=\u001b[39m \u001b[39m0\u001b[39m\n\u001b[0;32m      7\u001b[0m             \u001b[39mprint\u001b[39m(lista[i])\n",
      "\u001b[1;31mTypeError\u001b[0m: '>' not supported between instances of 'list' and 'int'"
     ]
    }
   ],
   "source": [
    "lista = [[50,34,70,20], [5,70,30,25], [10,5], [75,43,56,32,89], [[54,72]]]\n",
    "print(lista)\n",
    "for i in range(len(lista)):\n",
    "    for j in range(len(lista[i])):\n",
    "        if lista[i][j] > 50:\n",
    "            lista[i][j] = 0\n",
    "            print(lista[i])"
   ]
  },
  {
   "attachments": {},
   "cell_type": "markdown",
   "metadata": {},
   "source": [
    "13. Confeccionar un programa que calcule el factorial de un número introducido por teclado:\n"
   ]
  },
  {
   "cell_type": "code",
   "execution_count": null,
   "metadata": {},
   "outputs": [
    {
     "name": "stdout",
     "output_type": "stream",
     "text": [
      "El factorial de 5 es 120\n"
     ]
    }
   ],
   "source": [
    "n = int(input(\"Ingrese un número: \"))\n",
    "def factorial(n):\n",
    "    if n == 0:\n",
    "        return 1\n",
    "    else:\n",
    "        return n * factorial(n - 1)\n",
    "\n",
    "\n",
    "print(\"El factorial de\", n, \"es\", factorial(n))"
   ]
  },
  {
   "attachments": {},
   "cell_type": "markdown",
   "metadata": {},
   "source": [
    "14. Escribe una función que tome una palabra y retorne con todas las letras en minúscula menos la primera y la última.\n"
   ]
  },
  {
   "cell_type": "code",
   "execution_count": null,
   "metadata": {},
   "outputs": [
    {
     "name": "stdout",
     "output_type": "stream",
     "text": [
      "HolA\n"
     ]
    }
   ],
   "source": [
    "palabra = input(\"Introduce la palabra: \")\n",
    "\n",
    "def modify_word(palabra):\n",
    "    return palabra[0].upper() + palabra[1:-1].lower() + palabra[-1].upper()\n",
    "print(modify_word(palabra))"
   ]
  },
  {
   "attachments": {},
   "cell_type": "markdown",
   "metadata": {},
   "source": [
    "15. Reescribe el ejercicio 3 del apartado “Colecciones” utilizando una función para presentar el menú y recibir la opción seleccionada.\n"
   ]
  },
  {
   "cell_type": "code",
   "execution_count": null,
   "metadata": {},
   "outputs": [
    {
     "name": "stdout",
     "output_type": "stream",
     "text": [
      "1. Agregar personas\n",
      "2. Sorteo\n",
      "3. Salir\n",
      "1. Agregar personas\n",
      "2. Sorteo\n",
      "3. Salir\n",
      "pepe\n",
      "1. Agregar personas\n",
      "2. Sorteo\n",
      "3. Salir\n",
      "dani\n",
      "1. Agregar personas\n",
      "2. Sorteo\n",
      "3. Salir\n"
     ]
    }
   ],
   "source": [
    "import random\n",
    "\n",
    "nombre = input(\"Introduce tu nombre: \")\n",
    "lista = []\n",
    "lista.append(nombre)\n",
    "\n",
    "while True:\n",
    "    print(\"1. Agregar personas\")\n",
    "    print(\"2. Sorteo\")\n",
    "    print(\"3. Salir\")\n",
    "    opcion = int(input(\"Elige una opción: \"))\n",
    "    if opcion == 1:\n",
    "        nombre = input(\"Introduce tu nombre: \")\n",
    "        lista.append(nombre)\n",
    "    elif opcion == 2:\n",
    "        print(random.choice(lista))\n",
    "    elif opcion == 3:\n",
    "        break\n",
    "    else:\n",
    "        print(\"Opción incorrecta\")\n"
   ]
  },
  {
   "attachments": {},
   "cell_type": "markdown",
   "metadata": {},
   "source": [
    "16. Crea una clase “Saludo” que tenga los métodos: formal, informal y aleatorio. Los métodos pueden aceptar un parámetro (nombre de la persona a saludar) o ninguno (saludo genérico), el método aleatorio imprimirá un saludo aleatorio de una lista de saludos almacenados en la clase.\n"
   ]
  },
  {
   "cell_type": "code",
   "execution_count": 7,
   "metadata": {},
   "outputs": [
    {
     "name": "stdout",
     "output_type": "stream",
     "text": [
      "Buenos días.\n",
      "Buenos días, Juan.\n",
      "Hola.\n",
      "Hola, Juan.\n",
      "Buenas noches.\n",
      "Hola, Juan.\n"
     ]
    }
   ],
   "source": [
    "class Saludo:\n",
    "    def __init__(self, nombre=\"Pepe\"):\n",
    "        self.saludos_formales = [\"Buenos días\", \"Buenas tardes\", \"Buenas noches\"]\n",
    "        self.saludos_informales = [\"Hola\", \"Hey\", \"¿Qué tal?\"]\n",
    "\n",
    "    def formal(self, nombre=None):\n",
    "        if nombre is None:\n",
    "            return self.saludos_formales[0] + \".\"\n",
    "        else:\n",
    "            return self.saludos_formales[0] + \", \" + nombre + \".\"\n",
    "\n",
    "    def informal(self, nombre=None):\n",
    "        if nombre is None:\n",
    "            return self.saludos_informales[0] + \".\"\n",
    "        else:\n",
    "            return self.saludos_informales[0] + \", \" + nombre + \".\"\n",
    "\n",
    "    def aleatorio(self, nombre=None):\n",
    "        saludos = self.saludos_formales + self.saludos_informales\n",
    "        saludo_aleatorio = random.choice(saludos)\n",
    "        if nombre is None:\n",
    "            return saludo_aleatorio + \".\"\n",
    "        else:\n",
    "            return saludo_aleatorio + \", \" + nombre + \".\"\n",
    "\n",
    "\n",
    "saludo = Saludo()\n",
    "print(saludo.formal())\n",
    "print(saludo.formal(\"Juan\"))\n",
    "print(saludo.informal())\n",
    "print(saludo.informal(\"Juan\"))\n",
    "print(saludo.aleatorio())\n",
    "print(saludo.aleatorio(\"Juan\"))"
   ]
  },
  {
   "attachments": {},
   "cell_type": "markdown",
   "metadata": {},
   "source": [
    "17. Reescribe el ejercicio 3 del apartado “Colecciones” con orientación a objetos. Opcional: Usa herencia para tener un diccionarios de al menos dos idiomas. Añade las opciones de importar o exportar el diccionario a un fichero.\n"
   ]
  },
  {
   "cell_type": "code",
   "execution_count": 9,
   "metadata": {},
   "outputs": [
    {
     "name": "stdout",
     "output_type": "stream",
     "text": [
      "Menú:\n",
      "1. Agregar personas\n",
      "2. Sorteo\n",
      "3. Salir\n",
      "Menú:\n",
      "1. Agregar personas\n",
      "2. Sorteo\n",
      "3. Salir\n",
      "Menú:\n",
      "1. Agregar personas\n",
      "2. Sorteo\n",
      "3. Salir\n",
      "La persona sorteada es: Juan\n",
      "Menú:\n",
      "1. Agregar personas\n",
      "2. Sorteo\n",
      "3. Salir\n",
      "La persona sorteada es: Juan\n",
      "Menú:\n",
      "1. Agregar personas\n",
      "2. Sorteo\n",
      "3. Salir\n",
      "La persona sorteada es: Juan\n",
      "Menú:\n",
      "1. Agregar personas\n",
      "2. Sorteo\n",
      "3. Salir\n",
      "La persona sorteada es: Juan\n",
      "Menú:\n",
      "1. Agregar personas\n",
      "2. Sorteo\n",
      "3. Salir\n",
      "La persona sorteada es: Juan\n",
      "Menú:\n",
      "1. Agregar personas\n",
      "2. Sorteo\n",
      "3. Salir\n"
     ]
    }
   ],
   "source": [
    "class Persona:\n",
    "    def __init__(self, nombre):\n",
    "        self.nombre = nombre\n",
    "\n",
    "class Sorteo:\n",
    "    def __init__(self):\n",
    "        self.personas = []\n",
    "\n",
    "    def agregar_persona(self):\n",
    "        nombre = input(\"Introduce tu nombre: \")\n",
    "        persona = Persona(nombre)\n",
    "        self.personas.append(persona)\n",
    "\n",
    "    def sortear(self):\n",
    "        if len(self.personas) == 0:\n",
    "            print(\"No hay personas en la lista.\")\n",
    "        else:\n",
    "            persona_sorteada = random.choice(self.personas)\n",
    "            print(\"La persona sorteada es:\", persona_sorteada.nombre)\n",
    "\n",
    "sorteo = Sorteo()\n",
    "while True:\n",
    "    print(\"Menú:\")\n",
    "    print(\"1. Agregar personas\")\n",
    "    print(\"2. Sorteo\")\n",
    "    print(\"3. Salir\")\n",
    "    opcion = int(input(\"Elige una opción: \"))\n",
    "\n",
    "    if opcion == 1:\n",
    "        sorteo.agregar_persona()\n",
    "    elif opcion == 2:\n",
    "        sorteo.sortear()\n",
    "    elif opcion == 3:\n",
    "        break\n",
    "    else:\n",
    "        print(\"Opción incorrecta\")"
   ]
  }
 ],
 "metadata": {
  "kernelspec": {
   "display_name": "Python 3",
   "language": "python",
   "name": "python3"
  },
  "language_info": {
   "codemirror_mode": {
    "name": "ipython",
    "version": 3
   },
   "file_extension": ".py",
   "mimetype": "text/x-python",
   "name": "python",
   "nbconvert_exporter": "python",
   "pygments_lexer": "ipython3",
   "version": "3.10.8"
  },
  "orig_nbformat": 4,
  "vscode": {
   "interpreter": {
    "hash": "0f2f6c680cf484319d387fabac80ca4ff4fc33965036e02100b3fe02600f1423"
   }
  }
 },
 "nbformat": 4,
 "nbformat_minor": 2
}
